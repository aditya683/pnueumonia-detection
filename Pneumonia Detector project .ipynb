PNEUMONIA - CHEST XRAY CLASSIFIER (INTO NORMAL, VIRAL and BACTERIAL PNEUMONIA)
We made a pneumonia classifier using the Fast.ai library and ResNet CNN model. The classifier is designed to detect the type of pneumonia in medical images, which will aid doctors in making informed treatment decisions. With this tool, we hope to contribute to improving healthcare outcomes

Made By : Arshiya sethi Divyam malik Taanisha aggarwal Karan chhabra

As we have viral and bacterial pneumonia images in the same folder, we will separate them into 2 different folders one for VIRAL and another BACTERIAL

import os
import shutil

# define the input folder path
input_folder = "C:\\Users\\Divyam\\Desktop\\project new\\train"

# define the output folder paths
bacteria_folder = "C:\\Users\\Divyam\\Desktop\\project new\\train\\BACTERIAL"
virus_folder = "C:\\Users\\Divyam\\Desktop\\project new\\train\\VIRAL"

# create the output folders if they don't exist
os.makedirs(bacteria_folder, exist_ok=True)
os.makedirs(virus_folder, exist_ok=True)

# loop through all the files in the input folder
for filename in os.listdir(input_folder):
    # check if the filename contains "bacteria" or "virus"
    if "bacteria" in filename.lower():
        # move the file to the bacteria folder
        shutil.move(os.path.join(input_folder, filename), bacteria_folder)
    elif "virus" in filename.lower():
        # move the file to the virus folder
        shutil.move(os.path.join(input_folder, filename), virus_folder)
